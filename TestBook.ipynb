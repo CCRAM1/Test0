{
 "cells": [
  {
   "cell_type": "code",
   "execution_count": 2,
   "metadata": {
    "pycharm": {
     "name": "#%%\n"
    }
   },
   "outputs": [
    {
     "name": "stdout",
     "output_type": "stream",
     "text": [
      "Hello World!\n"
     ]
    }
   ],
   "source": [
    "print(\"Hello World!\")"
   ]
  },
  {
   "cell_type": "code",
   "execution_count": 4,
   "metadata": {
    "pycharm": {
     "name": "#%%\n"
    }
   },
   "outputs": [],
   "source": [
    "import scipy.stats as stats\n",
    "import statsmodels.stats.api as sms\n",
    "import numpy as np\n",
    "import matplotlib.pyplot as plt\n",
    "import pandas as pd\n",
    "import seaborn as sns"
   ]
  },
  {
   "cell_type": "code",
   "execution_count": 23,
   "metadata": {
    "pycharm": {
     "name": "#%%\n"
    }
   },
   "outputs": [],
   "source": [
    "meta = pd.read_csv('metadata.tsv.gz',compression='gzip',header=0,sep='\\t')"
   ]
  },
  {
   "cell_type": "code",
   "execution_count": 24,
   "metadata": {
    "pycharm": {
     "name": "#%%\n"
    }
   },
   "outputs": [],
   "source": [
    "data = pd.read_csv('bigtable.tsv.gz',compression='gzip',header=0,sep='\\t')"
   ]
  },
  {
   "cell_type": "code",
   "execution_count": 26,
   "metadata": {
    "pycharm": {
     "name": "#%%\n"
    }
   },
   "outputs": [],
   "source": [
    "taxonCounts = pd.read_csv('taxonLevelCounts.tsv.gz',compression='gzip',header=0,sep='\\t')"
   ]
  },
  {
   "cell_type": "code",
   "execution_count": 29,
   "metadata": {
    "pycharm": {
     "name": "#%%\n"
    }
   },
   "outputs": [
    {
     "data": {
      "text/html": [
       "<div>\n",
       "<style scoped>\n",
       "    .dataframe tbody tr th:only-of-type {\n",
       "        vertical-align: middle;\n",
       "    }\n",
       "\n",
       "    .dataframe tbody tr th {\n",
       "        vertical-align: top;\n",
       "    }\n",
       "\n",
       "    .dataframe thead th {\n",
       "        text-align: right;\n",
       "    }\n",
       "</style>\n",
       "<table border=\"1\" class=\"dataframe\">\n",
       "  <thead>\n",
       "    <tr style=\"text-align: right;\">\n",
       "      <th></th>\n",
       "      <th>seqID</th>\n",
       "      <th>sampleID</th>\n",
       "      <th>count</th>\n",
       "      <th>normCount</th>\n",
       "      <th>alnType</th>\n",
       "      <th>targetID</th>\n",
       "      <th>evalue</th>\n",
       "      <th>pident</th>\n",
       "      <th>fident</th>\n",
       "      <th>nident</th>\n",
       "      <th>...</th>\n",
       "      <th>taxMethod</th>\n",
       "      <th>kingdom</th>\n",
       "      <th>phylum</th>\n",
       "      <th>class</th>\n",
       "      <th>order</th>\n",
       "      <th>family</th>\n",
       "      <th>genus</th>\n",
       "      <th>species</th>\n",
       "      <th>baltimoreType</th>\n",
       "      <th>baltimoreGroup</th>\n",
       "    </tr>\n",
       "  </thead>\n",
       "  <tbody>\n",
       "    <tr>\n",
       "      <th>0</th>\n",
       "      <td>A13-258-124-06_CGTACG:1:6006</td>\n",
       "      <td>A13-258-124-06_CGTACG</td>\n",
       "      <td>1</td>\n",
       "      <td>1.012666</td>\n",
       "      <td>aa</td>\n",
       "      <td>A0A1W5PTE0</td>\n",
       "      <td>2.240000e-46</td>\n",
       "      <td>97.3</td>\n",
       "      <td>0.973</td>\n",
       "      <td>73</td>\n",
       "      <td>...</td>\n",
       "      <td>TopHit</td>\n",
       "      <td>Viruses</td>\n",
       "      <td>Cossaviricota</td>\n",
       "      <td>Quintoviricetes</td>\n",
       "      <td>Piccovirales</td>\n",
       "      <td>Parvoviridae</td>\n",
       "      <td>Protoparvovirus</td>\n",
       "      <td>Simian bufavirus</td>\n",
       "      <td>ssDNA</td>\n",
       "      <td>II</td>\n",
       "    </tr>\n",
       "    <tr>\n",
       "      <th>1</th>\n",
       "      <td>A13-258-124-06_CGTACG:1:6007</td>\n",
       "      <td>A13-258-124-06_CGTACG</td>\n",
       "      <td>1</td>\n",
       "      <td>1.012666</td>\n",
       "      <td>aa</td>\n",
       "      <td>E0NZW5</td>\n",
       "      <td>1.941000e-23</td>\n",
       "      <td>74.1</td>\n",
       "      <td>0.741</td>\n",
       "      <td>46</td>\n",
       "      <td>...</td>\n",
       "      <td>TopHit</td>\n",
       "      <td>Bacteria</td>\n",
       "      <td>Firmicutes</td>\n",
       "      <td>Negativicutes</td>\n",
       "      <td>Selenomonadales</td>\n",
       "      <td>Selenomonadaceae</td>\n",
       "      <td>Selenomonas</td>\n",
       "      <td>Selenomonas sp. oral taxon 149</td>\n",
       "      <td>NaN</td>\n",
       "      <td>NaN</td>\n",
       "    </tr>\n",
       "    <tr>\n",
       "      <th>2</th>\n",
       "      <td>A13-258-124-06_CGTACG:1:6019</td>\n",
       "      <td>A13-258-124-06_CGTACG</td>\n",
       "      <td>1</td>\n",
       "      <td>1.012666</td>\n",
       "      <td>aa</td>\n",
       "      <td>A0A349YS28</td>\n",
       "      <td>4.343000e-17</td>\n",
       "      <td>51.9</td>\n",
       "      <td>0.519</td>\n",
       "      <td>40</td>\n",
       "      <td>...</td>\n",
       "      <td>LCA</td>\n",
       "      <td>Bacteria</td>\n",
       "      <td>unclassified Bacteria phylum</td>\n",
       "      <td>unclassified Bacteria class</td>\n",
       "      <td>unclassified Bacteria order</td>\n",
       "      <td>unclassified Bacteria family</td>\n",
       "      <td>unclassified Bacteria genus</td>\n",
       "      <td>unclassified Bacteria species</td>\n",
       "      <td>NaN</td>\n",
       "      <td>NaN</td>\n",
       "    </tr>\n",
       "    <tr>\n",
       "      <th>3</th>\n",
       "      <td>A13-258-124-06_CGTACG:1:6020</td>\n",
       "      <td>A13-258-124-06_CGTACG</td>\n",
       "      <td>1</td>\n",
       "      <td>1.012666</td>\n",
       "      <td>aa</td>\n",
       "      <td>A0A2N5ZDN1</td>\n",
       "      <td>3.061000e-35</td>\n",
       "      <td>81.8</td>\n",
       "      <td>0.818</td>\n",
       "      <td>63</td>\n",
       "      <td>...</td>\n",
       "      <td>TopHit</td>\n",
       "      <td>Bacteria</td>\n",
       "      <td>Bacteroidetes</td>\n",
       "      <td>Bacteroidia</td>\n",
       "      <td>Marinilabiliales</td>\n",
       "      <td>unclassified Marinilabiliales family</td>\n",
       "      <td>unclassified Marinilabiliales genus</td>\n",
       "      <td>Marinilabiliales bacterium</td>\n",
       "      <td>NaN</td>\n",
       "      <td>NaN</td>\n",
       "    </tr>\n",
       "    <tr>\n",
       "      <th>4</th>\n",
       "      <td>A13-258-124-06_CGTACG:1:6030</td>\n",
       "      <td>A13-258-124-06_CGTACG</td>\n",
       "      <td>1</td>\n",
       "      <td>1.012666</td>\n",
       "      <td>aa</td>\n",
       "      <td>A0A1Q6JQ74</td>\n",
       "      <td>4.923000e-17</td>\n",
       "      <td>56.5</td>\n",
       "      <td>0.565</td>\n",
       "      <td>39</td>\n",
       "      <td>...</td>\n",
       "      <td>TopHit</td>\n",
       "      <td>Bacteria</td>\n",
       "      <td>Firmicutes</td>\n",
       "      <td>Clostridia</td>\n",
       "      <td>Clostridiales</td>\n",
       "      <td>unclassified Clostridiales family</td>\n",
       "      <td>unclassified Clostridiales genus</td>\n",
       "      <td>Clostridiales bacterium 59_14</td>\n",
       "      <td>NaN</td>\n",
       "      <td>NaN</td>\n",
       "    </tr>\n",
       "    <tr>\n",
       "      <th>...</th>\n",
       "      <td>...</td>\n",
       "      <td>...</td>\n",
       "      <td>...</td>\n",
       "      <td>...</td>\n",
       "      <td>...</td>\n",
       "      <td>...</td>\n",
       "      <td>...</td>\n",
       "      <td>...</td>\n",
       "      <td>...</td>\n",
       "      <td>...</td>\n",
       "      <td>...</td>\n",
       "      <td>...</td>\n",
       "      <td>...</td>\n",
       "      <td>...</td>\n",
       "      <td>...</td>\n",
       "      <td>...</td>\n",
       "      <td>...</td>\n",
       "      <td>...</td>\n",
       "      <td>...</td>\n",
       "      <td>...</td>\n",
       "      <td>...</td>\n",
       "    </tr>\n",
       "    <tr>\n",
       "      <th>38443</th>\n",
       "      <td>A13-04-182-06_TAGCTT:1:3986</td>\n",
       "      <td>A13-04-182-06_TAGCTT</td>\n",
       "      <td>1</td>\n",
       "      <td>1.140732</td>\n",
       "      <td>nt</td>\n",
       "      <td>tid|278008|LR756489.1</td>\n",
       "      <td>3.535000e-42</td>\n",
       "      <td>83.6</td>\n",
       "      <td>0.836</td>\n",
       "      <td>0</td>\n",
       "      <td>...</td>\n",
       "      <td>LCA</td>\n",
       "      <td>Viruses</td>\n",
       "      <td>unclassified Viruses phylum</td>\n",
       "      <td>unclassified Viruses class</td>\n",
       "      <td>unclassified Viruses order</td>\n",
       "      <td>unclassified Viruses family</td>\n",
       "      <td>unclassified Viruses genus</td>\n",
       "      <td>uncultured phage</td>\n",
       "      <td>NaN</td>\n",
       "      <td>NaN</td>\n",
       "    </tr>\n",
       "    <tr>\n",
       "      <th>38444</th>\n",
       "      <td>A13-255-183-06_GTGGCC:1:4169</td>\n",
       "      <td>A13-255-183-06_GTGGCC</td>\n",
       "      <td>1</td>\n",
       "      <td>0.994737</td>\n",
       "      <td>nt</td>\n",
       "      <td>tid|2292228|NZ_QRXH01000076.1</td>\n",
       "      <td>1.577000e-55</td>\n",
       "      <td>81.2</td>\n",
       "      <td>0.812</td>\n",
       "      <td>0</td>\n",
       "      <td>...</td>\n",
       "      <td>TopHit</td>\n",
       "      <td>Bacteria</td>\n",
       "      <td>Firmicutes</td>\n",
       "      <td>Erysipelotrichia</td>\n",
       "      <td>Erysipelotrichales</td>\n",
       "      <td>Coprobacillaceae</td>\n",
       "      <td>Coprobacillus</td>\n",
       "      <td>Coprobacillus sp. AF18-15LB</td>\n",
       "      <td>NaN</td>\n",
       "      <td>NaN</td>\n",
       "    </tr>\n",
       "    <tr>\n",
       "      <th>38445</th>\n",
       "      <td>A13-255-183-06_GTGGCC:1:4646</td>\n",
       "      <td>A13-255-183-06_GTGGCC</td>\n",
       "      <td>1</td>\n",
       "      <td>0.994737</td>\n",
       "      <td>nt</td>\n",
       "      <td>tid|2595040|MN402506.2</td>\n",
       "      <td>2.794000e-06</td>\n",
       "      <td>80.8</td>\n",
       "      <td>0.808</td>\n",
       "      <td>0</td>\n",
       "      <td>...</td>\n",
       "      <td>LCA</td>\n",
       "      <td>Viruses</td>\n",
       "      <td>Uroviricota</td>\n",
       "      <td>Caudoviricetes</td>\n",
       "      <td>Caudovirales</td>\n",
       "      <td>Myoviridae</td>\n",
       "      <td>unclassified Myoviridae genus</td>\n",
       "      <td>unclassified Myoviridae species</td>\n",
       "      <td>dsDNA</td>\n",
       "      <td>I</td>\n",
       "    </tr>\n",
       "    <tr>\n",
       "      <th>38446</th>\n",
       "      <td>A13-255-183-06_GTGGCC:5:5015</td>\n",
       "      <td>A13-255-183-06_GTGGCC</td>\n",
       "      <td>5</td>\n",
       "      <td>4.973685</td>\n",
       "      <td>nt</td>\n",
       "      <td>tid|2202644|MG945780.1</td>\n",
       "      <td>7.448000e-11</td>\n",
       "      <td>80.0</td>\n",
       "      <td>0.800</td>\n",
       "      <td>0</td>\n",
       "      <td>...</td>\n",
       "      <td>LCA</td>\n",
       "      <td>Viruses</td>\n",
       "      <td>Phixviricota</td>\n",
       "      <td>Malgrandaviricetes</td>\n",
       "      <td>Petitvirales</td>\n",
       "      <td>Microviridae</td>\n",
       "      <td>unclassified Microviridae genus</td>\n",
       "      <td>Microviridae sp.</td>\n",
       "      <td>ssDNA</td>\n",
       "      <td>II</td>\n",
       "    </tr>\n",
       "    <tr>\n",
       "      <th>38447</th>\n",
       "      <td>A13-255-183-06_GTGGCC:1:5239</td>\n",
       "      <td>A13-255-183-06_GTGGCC</td>\n",
       "      <td>1</td>\n",
       "      <td>0.994737</td>\n",
       "      <td>nt</td>\n",
       "      <td>tid|2292004|NZ_QUDG01000030.1</td>\n",
       "      <td>7.178000e-50</td>\n",
       "      <td>83.9</td>\n",
       "      <td>0.839</td>\n",
       "      <td>0</td>\n",
       "      <td>...</td>\n",
       "      <td>TopHit</td>\n",
       "      <td>Bacteria</td>\n",
       "      <td>Firmicutes</td>\n",
       "      <td>Clostridia</td>\n",
       "      <td>Clostridiales</td>\n",
       "      <td>Clostridiaceae</td>\n",
       "      <td>Butyricicoccus</td>\n",
       "      <td>Butyricicoccus sp. AM05-1</td>\n",
       "      <td>NaN</td>\n",
       "      <td>NaN</td>\n",
       "    </tr>\n",
       "  </tbody>\n",
       "</table>\n",
       "<p>38448 rows × 32 columns</p>\n",
       "</div>"
      ],
      "text/plain": [
       "                              seqID               sampleID  count  normCount  \\\n",
       "0      A13-258-124-06_CGTACG:1:6006  A13-258-124-06_CGTACG      1   1.012666   \n",
       "1      A13-258-124-06_CGTACG:1:6007  A13-258-124-06_CGTACG      1   1.012666   \n",
       "2      A13-258-124-06_CGTACG:1:6019  A13-258-124-06_CGTACG      1   1.012666   \n",
       "3      A13-258-124-06_CGTACG:1:6020  A13-258-124-06_CGTACG      1   1.012666   \n",
       "4      A13-258-124-06_CGTACG:1:6030  A13-258-124-06_CGTACG      1   1.012666   \n",
       "...                             ...                    ...    ...        ...   \n",
       "38443   A13-04-182-06_TAGCTT:1:3986   A13-04-182-06_TAGCTT      1   1.140732   \n",
       "38444  A13-255-183-06_GTGGCC:1:4169  A13-255-183-06_GTGGCC      1   0.994737   \n",
       "38445  A13-255-183-06_GTGGCC:1:4646  A13-255-183-06_GTGGCC      1   0.994737   \n",
       "38446  A13-255-183-06_GTGGCC:5:5015  A13-255-183-06_GTGGCC      5   4.973685   \n",
       "38447  A13-255-183-06_GTGGCC:1:5239  A13-255-183-06_GTGGCC      1   0.994737   \n",
       "\n",
       "      alnType                       targetID        evalue  pident  fident  \\\n",
       "0          aa                     A0A1W5PTE0  2.240000e-46    97.3   0.973   \n",
       "1          aa                         E0NZW5  1.941000e-23    74.1   0.741   \n",
       "2          aa                     A0A349YS28  4.343000e-17    51.9   0.519   \n",
       "3          aa                     A0A2N5ZDN1  3.061000e-35    81.8   0.818   \n",
       "4          aa                     A0A1Q6JQ74  4.923000e-17    56.5   0.565   \n",
       "...       ...                            ...           ...     ...     ...   \n",
       "38443      nt          tid|278008|LR756489.1  3.535000e-42    83.6   0.836   \n",
       "38444      nt  tid|2292228|NZ_QRXH01000076.1  1.577000e-55    81.2   0.812   \n",
       "38445      nt         tid|2595040|MN402506.2  2.794000e-06    80.8   0.808   \n",
       "38446      nt         tid|2202644|MG945780.1  7.448000e-11    80.0   0.800   \n",
       "38447      nt  tid|2292004|NZ_QUDG01000030.1  7.178000e-50    83.9   0.839   \n",
       "\n",
       "       nident  ...  taxMethod   kingdom                        phylum  \\\n",
       "0          73  ...     TopHit   Viruses                 Cossaviricota   \n",
       "1          46  ...     TopHit  Bacteria                    Firmicutes   \n",
       "2          40  ...        LCA  Bacteria  unclassified Bacteria phylum   \n",
       "3          63  ...     TopHit  Bacteria                 Bacteroidetes   \n",
       "4          39  ...     TopHit  Bacteria                    Firmicutes   \n",
       "...       ...  ...        ...       ...                           ...   \n",
       "38443       0  ...        LCA   Viruses   unclassified Viruses phylum   \n",
       "38444       0  ...     TopHit  Bacteria                    Firmicutes   \n",
       "38445       0  ...        LCA   Viruses                   Uroviricota   \n",
       "38446       0  ...        LCA   Viruses                  Phixviricota   \n",
       "38447       0  ...     TopHit  Bacteria                    Firmicutes   \n",
       "\n",
       "                             class                        order  \\\n",
       "0                  Quintoviricetes                 Piccovirales   \n",
       "1                    Negativicutes              Selenomonadales   \n",
       "2      unclassified Bacteria class  unclassified Bacteria order   \n",
       "3                      Bacteroidia             Marinilabiliales   \n",
       "4                       Clostridia                Clostridiales   \n",
       "...                            ...                          ...   \n",
       "38443   unclassified Viruses class   unclassified Viruses order   \n",
       "38444             Erysipelotrichia           Erysipelotrichales   \n",
       "38445               Caudoviricetes                 Caudovirales   \n",
       "38446           Malgrandaviricetes                 Petitvirales   \n",
       "38447                   Clostridia                Clostridiales   \n",
       "\n",
       "                                     family  \\\n",
       "0                              Parvoviridae   \n",
       "1                          Selenomonadaceae   \n",
       "2              unclassified Bacteria family   \n",
       "3      unclassified Marinilabiliales family   \n",
       "4         unclassified Clostridiales family   \n",
       "...                                     ...   \n",
       "38443           unclassified Viruses family   \n",
       "38444                      Coprobacillaceae   \n",
       "38445                            Myoviridae   \n",
       "38446                          Microviridae   \n",
       "38447                        Clostridiaceae   \n",
       "\n",
       "                                     genus                          species  \\\n",
       "0                          Protoparvovirus                 Simian bufavirus   \n",
       "1                              Selenomonas   Selenomonas sp. oral taxon 149   \n",
       "2              unclassified Bacteria genus    unclassified Bacteria species   \n",
       "3      unclassified Marinilabiliales genus       Marinilabiliales bacterium   \n",
       "4         unclassified Clostridiales genus    Clostridiales bacterium 59_14   \n",
       "...                                    ...                              ...   \n",
       "38443           unclassified Viruses genus                 uncultured phage   \n",
       "38444                        Coprobacillus      Coprobacillus sp. AF18-15LB   \n",
       "38445        unclassified Myoviridae genus  unclassified Myoviridae species   \n",
       "38446      unclassified Microviridae genus                 Microviridae sp.   \n",
       "38447                       Butyricicoccus        Butyricicoccus sp. AM05-1   \n",
       "\n",
       "       baltimoreType  baltimoreGroup  \n",
       "0              ssDNA              II  \n",
       "1                NaN             NaN  \n",
       "2                NaN             NaN  \n",
       "3                NaN             NaN  \n",
       "4                NaN             NaN  \n",
       "...              ...             ...  \n",
       "38443            NaN             NaN  \n",
       "38444            NaN             NaN  \n",
       "38445          dsDNA               I  \n",
       "38446          ssDNA              II  \n",
       "38447            NaN             NaN  \n",
       "\n",
       "[38448 rows x 32 columns]"
      ]
     },
     "execution_count": 29,
     "metadata": {},
     "output_type": "execute_result"
    }
   ],
   "source": [
    "data"
   ]
  },
  {
   "cell_type": "code",
   "execution_count": 31,
   "metadata": {
    "pycharm": {
     "name": "#%%\n"
    }
   },
   "outputs": [],
   "source": [
    "dataMeta = pd.merge(data, meta, on=[\"sampleID\"])"
   ]
  },
  {
   "cell_type": "code",
   "execution_count": 33,
   "metadata": {
    "pycharm": {
     "name": "#%%\n"
    }
   },
   "outputs": [],
   "source": [
    "viruses = dataMeta[(dataMeta.kingdom == \"Viruses\")]"
   ]
  },
  {
   "cell_type": "code",
   "execution_count": 35,
   "metadata": {
    "pycharm": {
     "name": "#%%\n"
    }
   },
   "outputs": [],
   "source": [
    "import seaborn as sns\n",
    "import matplotlib.pyplot as plt"
   ]
  },
  {
   "cell_type": "code",
   "execution_count": 37,
   "metadata": {
    "pycharm": {
     "name": "#%%\n"
    }
   },
   "outputs": [],
   "source": [
    "virusesGroup = viruses.groupby(by=['family','alnType','alnlen','pident'], as_index=False).count()"
   ]
  },
  {
   "cell_type": "code",
   "execution_count": 39,
   "metadata": {
    "pycharm": {
     "name": "#%%\n"
    }
   },
   "outputs": [
    {
     "data": {
      "image/png": "[encoded data removed]",
      "text/plain": [
       "<Figure size 1296x1728 with 44 Axes>"
      ]
     },
     "metadata": {
      "needs_background": "light"
     },
     "output_type": "display_data"
    }
   ],
   "source": [
    "g = sns.FacetGrid(virusesGroup, col=\"family\", hue=\"alnType\", col_wrap=6)"
   ]
  },
  {
   "cell_type": "code",
   "execution_count": 41,
   "metadata": {
    "pycharm": {
     "name": "#%%\n"
    }
   },
   "outputs": [
    {
     "ename": "NameError",
     "evalue": "name 'sizeScatter' is not defined",
     "output_type": "error",
     "traceback": [
      "\u001B[1;31m---------------------------------------------------------------------------\u001B[0m",
      "\u001B[1;31mNameError\u001B[0m                                 Traceback (most recent call last)",
      "Input \u001B[1;32mIn [41]\u001B[0m, in \u001B[0;36m<cell line: 1>\u001B[1;34m()\u001B[0m\n\u001B[1;32m----> 1\u001B[0m g\u001B[38;5;241m.\u001B[39mmap(sns\u001B[38;5;241m.\u001B[39mscatterplot, \u001B[38;5;124m\"\u001B[39m\u001B[38;5;124malnlen\u001B[39m\u001B[38;5;124m\"\u001B[39m, \u001B[38;5;124m\"\u001B[39m\u001B[38;5;124mpident\u001B[39m\u001B[38;5;124m\"\u001B[39m, alpha\u001B[38;5;241m=\u001B[39m\u001B[38;5;241m.1\u001B[39m, sizes\u001B[38;5;241m=\u001B[39m(\u001B[38;5;241m100\u001B[39m,\u001B[38;5;241m500\u001B[39m), size\u001B[38;5;241m=\u001B[39m\u001B[43msizeScatter\u001B[49m)\n\u001B[0;32m      2\u001B[0m plt\u001B[38;5;241m.\u001B[39mlegend(bbox_to_anchor\u001B[38;5;241m=\u001B[39m(\u001B[38;5;241m5.0\u001B[39m,\u001B[38;5;241m1\u001B[39m), loc\u001B[38;5;241m=\u001B[39m\u001B[38;5;241m0\u001B[39m, borderaxespad\u001B[38;5;241m=\u001B[39m\u001B[38;5;241m2\u001B[39m,ncol\u001B[38;5;241m=\u001B[39m\u001B[38;5;241m6\u001B[39m, shadow\u001B[38;5;241m=\u001B[39m\u001B[38;5;28;01mTrue\u001B[39;00m, labelspacing\u001B[38;5;241m=\u001B[39m\u001B[38;5;241m1.5\u001B[39m, borderpad\u001B[38;5;241m=\u001B[39m\u001B[38;5;241m1.5\u001B[39m)\n\u001B[0;32m      3\u001B[0m plt\u001B[38;5;241m.\u001B[39mshow()\n",
      "\u001B[1;31mNameError\u001B[0m: name 'sizeScatter' is not defined"
     ]
    }
   ],
   "source": [
    "g.map(sns.scatterplot, \"alnlen\", \"pident\", alpha=.1, sizes=(100,500), size=sizeScatter)\n",
    "plt.legend(bbox_to_anchor=(5.0,1), loc=0, borderaxespad=2,ncol=6, shadow=True, labelspacing=1.5, borderpad=1.5)\n",
    "plt.show()"
   ]
  },
  {
   "cell_type": "code",
   "execution_count": null,
   "metadata": {
    "pycharm": {
     "name": "#%%\n"
    }
   },
   "outputs": [],
   "source": []
  },
  {
   "cell_type": "code",
   "execution_count": 42,
   "metadata": {
    "pycharm": {
     "name": "#%%\n"
    }
   },
   "outputs": [
    {
     "ename": "NameError",
     "evalue": "name 'sizeScatter' is not defined",
     "output_type": "error",
     "traceback": [
      "\u001B[1;31m---------------------------------------------------------------------------\u001B[0m",
      "\u001B[1;31mNameError\u001B[0m                                 Traceback (most recent call last)",
      "Input \u001B[1;32mIn [42]\u001B[0m, in \u001B[0;36m<cell line: 1>\u001B[1;34m()\u001B[0m\n\u001B[1;32m----> 1\u001B[0m g\u001B[38;5;241m.\u001B[39mmap(sns\u001B[38;5;241m.\u001B[39mscatterplot, \u001B[38;5;124m\"\u001B[39m\u001B[38;5;124malnlen\u001B[39m\u001B[38;5;124m\"\u001B[39m, \u001B[38;5;124m\"\u001B[39m\u001B[38;5;124mpident\u001B[39m\u001B[38;5;124m\"\u001B[39m, alpha\u001B[38;5;241m=\u001B[39m\u001B[38;5;241m.1\u001B[39m, sizes\u001B[38;5;241m=\u001B[39m(\u001B[38;5;241m100\u001B[39m,\u001B[38;5;241m500\u001B[39m), size\u001B[38;5;241m=\u001B[39m\u001B[43msizeScatter\u001B[49m)\n\u001B[0;32m      2\u001B[0m \u001B[38;5;28;01mfor\u001B[39;00m ax \u001B[38;5;129;01min\u001B[39;00m g\u001B[38;5;241m.\u001B[39maxes\u001B[38;5;241m.\u001B[39mflat:\n\u001B[0;32m      3\u001B[0m     ax\u001B[38;5;241m.\u001B[39mtick_params(axis\u001B[38;5;241m=\u001B[39m\u001B[38;5;124m'\u001B[39m\u001B[38;5;124mboth\u001B[39m\u001B[38;5;124m'\u001B[39m, labelleft\u001B[38;5;241m=\u001B[39m\u001B[38;5;28;01mTrue\u001B[39;00m, labelbottom\u001B[38;5;241m=\u001B[39m\u001B[38;5;28;01mTrue\u001B[39;00m)\n",
      "\u001B[1;31mNameError\u001B[0m: name 'sizeScatter' is not defined"
     ]
    }
   ],
   "source": []
  }
 ],
 "metadata": {
  "kernelspec": {
   "display_name": "Python 3 (ipykernel)",
   "language": "python",
   "name": "python3"
  },
  "language_info": {
   "codemirror_mode": {
    "name": "ipython",
    "version": 3
   },
   "file_extension": ".py",
   "mimetype": "text/x-python",
   "name": "python",
   "nbconvert_exporter": "python",
   "pygments_lexer": "ipython3",
   "version": "3.9.10"
  }
 },
 "nbformat": 4,
 "nbformat_minor": 1
}